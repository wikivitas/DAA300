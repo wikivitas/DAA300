{
 "cells": [
  {
   "cell_type": "markdown",
   "id": "e6e13ab7",
   "metadata": {},
   "source": [
    "# <center> RĪGAS TEHNISKĀ UNIVERSITĀTE\n",
    "\n",
    "### <center>DATORZINĀTNES UN INFORMĀCIJAS TEHNOLOĢIJAS FAKULTĀTE\n",
    "\n",
    "\n",
    "### <center>Datorgrafikas un attēlu apstrādes pamati\n",
    "<br> <hr>\n",
    "#### Praktiskā darba Nr. 1\n",
    "#### Vārds, Uzvārds: Vitalijs Kiseļovs\n",
    "#### Studenta apliecības nummurs: 191RKB043\n"
   ]
  },
  {
   "cell_type": "markdown",
   "id": "4c505406",
   "metadata": {},
   "source": [
    "DARBA UZDEVUMS \n",
    "Lūdzu ievietojiet šajā sadaļā darba uzdevumu un variantu!\n",
    "\n",
    "Balstoties uz praktiskās nodarbības laikā aplūkoto Brezenhema algoritma realizāciju, izveidot no vairākām taisnēm \n",
    "savus pēdējos 3 studenta apliecības numura skaitļus (piemēram, ja Jūsu studentu apliecības numurs ir 200RDB153, tad \n",
    "Jums ir jāizveido skaitļi 153)\n",
    "\n",
    "ORTUS vidē OBLIGĀTI nepieciešams iesniegt: Jupyter Notebook failu (\"*.ipynb\" formātā) ar individuālā uzdevuma izpildi"
   ]
  },
  {
   "cell_type": "code",
   "execution_count": 42,
   "id": "747350e3",
   "metadata": {
    "scrolled": false
   },
   "outputs": [
    {
     "data": {
      "image/png": "[encoded data removed]",
      "text/plain": [
       "<Figure size 600x600 with 1 Axes>"
      ]
     },
     "metadata": {
      "needs_background": "light"
     },
     "output_type": "display_data"
    }
   ],
   "source": [
    "# Programmējamais kods\n",
    "\n",
    "import numpy as np #lai strādātu ar masīviem\n",
    "import matplotlib.pyplot as plt # lai izvadītu grafikus\n",
    "\n",
    "img=np.ones((600,600,3)) # height, width 3-RGB\n",
    "def DrawLine(x1,y1,x2,y2):\n",
    "                #linija starp punktiem (x1,y1) un (x2,y2)\n",
    "                #x1,y1 - sakumpunkts\n",
    "                #x2,y2 - galapunkts\n",
    "                #dx=|x2-x1|\n",
    "                #dy=|y2-y1|\n",
    "    dx=abs(x2-x1) #abs-modulis delta x\n",
    "    dy=abs(y2-y1) #delta y\n",
    "    \n",
    "    if x1<x2: #nosakam līnijas virzienu pa x asi\n",
    "        xs=1\n",
    "    else: \n",
    "        xs=-1\n",
    "    \n",
    "    if y1<y2: #nosakam līnijas virzienu pa y asi\n",
    "        ys=1\n",
    "    else: \n",
    "        ys=-1\n",
    "        \n",
    "    x=x1 #definējam sakumpunktu\n",
    "    y=y1\n",
    "    \n",
    "    if dx>dy: #horizontālas līnijas\n",
    "        p=2*dy-dx\n",
    "        while x!=x2: #kāmēr nav galapunkts\n",
    "            x=x+xs\n",
    "            if p>0:\n",
    "                y=y+ys\n",
    "                p=p+2*dy-2*dx\n",
    "            else:\n",
    "                p=p+2*dy\n",
    "            img[y,x]=0 #iekrāsojam pikseli melnajā krāsā\n",
    "            \n",
    "    else: # MĀJAS DARBS <> MĀJAS DARBS <> MĀJAS DARBS <> MĀJAS DARBS\n",
    "        p=2*dy-dx\n",
    "        while y!=y2: #kāmēr nav galapunkts\n",
    "            y=y+ys\n",
    "            if p>0:\n",
    "                x=x+xs\n",
    "                p=p+2*dx-2*dy\n",
    "            else:\n",
    "                p=p+2*dx\n",
    "            img[y,x]=0 #iekrāsojam pikseli melnajā krāsā\n",
    "    \n",
    "plt.rcParams[\"figure.figsize\"]=(7.5,7.5) #mainām logu izmēru\n",
    "plt.rcParams[\"figure.dpi\"]=80 # līnijas dpi\n",
    "\n",
    "DrawLine(100,450,500,500) # parauga līnija\n",
    "\n",
    "#ciparis: 0 4 3\n",
    "\n",
    "# 0 zīmēšana\n",
    "DrawLine(150,220,150,130)\n",
    "DrawLine(200,220,200,130)\n",
    "DrawLine(150,130,200,130)\n",
    "DrawLine(150,220,200,220)\n",
    "\n",
    "# 4 zīmēšana\n",
    "\n",
    "DrawLine(240,175,240,130)\n",
    "DrawLine(290,130,290,220)\n",
    "DrawLine(240,175,290,175)\n",
    "\n",
    "# 3 zīmēšana\n",
    "\n",
    "DrawLine(330,130,380,130)\n",
    "DrawLine(330,175,380,175)\n",
    "DrawLine(330,175,380,130)\n",
    "DrawLine(330,220,380,175)\n",
    "\n",
    "plt.imshow(img) #attēla izvāds\n",
    "plt.show() #astpoguļojums"
   ]
  },
  {
   "cell_type": "code",
   "execution_count": null,
   "id": "962ba193",
   "metadata": {},
   "outputs": [],
   "source": []
  }
 ],
 "metadata": {
  "celltoolbar": "Raw Cell Format",
  "kernelspec": {
   "display_name": "Python 3 (ipykernel)",
   "language": "python",
   "name": "python3"
  },
  "language_info": {
   "codemirror_mode": {
    "name": "ipython",
    "version": 3
   },
   "file_extension": ".py",
   "mimetype": "text/x-python",
   "name": "python",
   "nbconvert_exporter": "python",
   "pygments_lexer": "ipython3",
   "version": "3.9.12"
  }
 },
 "nbformat": 4,
 "nbformat_minor": 5
}
